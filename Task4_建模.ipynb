{
 "cells": [
  {
   "cell_type": "markdown",
   "metadata": {},
   "source": [
    "# 建模到调参\n",
    "\n",
    "1. 线性回归 / LASSO / Ridge / \n",
    "2. 决策树\n",
    "3. GDBT\n",
    "4. XGBoost\n",
    "5. LightGBM\n"
   ]
  },
  {
   "cell_type": "code",
   "execution_count": 12,
   "metadata": {
    "ExecuteTime": {
     "end_time": "2020-04-01T12:09:37.547486Z",
     "start_time": "2020-04-01T12:09:37.535485Z"
    }
   },
   "outputs": [],
   "source": [
    "## 基础工具\n",
    "import numpy as np\n",
    "import pandas as pd\n",
    "import warnings\n",
    "import matplotlib\n",
    "import matplotlib.pyplot as plt\n",
    "import seaborn as sns\n",
    "from scipy.special import jn\n",
    "from IPython.display import display, clear_output\n",
    "import time\n",
    "\n",
    "warnings.filterwarnings('ignore')\n",
    "%matplotlib inline\n",
    "\n",
    "## 模型预测的\n",
    "from sklearn.linear_model import LinearRegression\n",
    "from sklearn.linear_model import Ridge\n",
    "from sklearn.linear_model import Lasso\n",
    "from sklearn import preprocessing\n",
    "from sklearn.svm import SVR\n",
    "from sklearn.ensemble import RandomForestRegressor,GradientBoostingRegressor\n",
    "\n",
    "from sklearn.model_selection import cross_val_score\n",
    "\n",
    "## 数据降维处理的\n",
    "from sklearn.decomposition import PCA,FastICA,FactorAnalysis,SparsePCA\n",
    "\n",
    "import lightgbm as lgb\n",
    "import xgboost as xgb\n",
    "\n",
    "## 参数搜索和评价的\n",
    "from sklearn.model_selection import GridSearchCV,cross_val_score,StratifiedKFold,train_test_split\n",
    "from sklearn.metrics import mean_squared_error, mean_absolute_error, make_scorer"
   ]
  },
  {
   "cell_type": "markdown",
   "metadata": {},
   "source": [
    "## 数据预处理"
   ]
  },
  {
   "cell_type": "code",
   "execution_count": 2,
   "metadata": {
    "ExecuteTime": {
     "end_time": "2020-04-01T11:50:37.658826Z",
     "start_time": "2020-04-01T11:50:37.639823Z"
    },
    "code_folding": [
     1
    ]
   },
   "outputs": [],
   "source": [
    "def reduce_mem_usage(df):\n",
    "    \"\"\" \n",
    "    iterate through all the columns of a dataframe and modify the data type\n",
    "    to reduce memory usage.        \n",
    "    \"\"\"\n",
    "    start_mem = df.memory_usage().sum() \n",
    "    print('Memory usage of dataframe is {:.2f} MiB'.format(start_mem/1024/1024))\n",
    "    \n",
    "    for col in df.columns:\n",
    "        col_type = df[col].dtype\n",
    "        \n",
    "        if col_type != object:\n",
    "            c_min = df[col].min()\n",
    "            c_max = df[col].max()\n",
    "            if str(col_type)[:3] == 'int':\n",
    "                if c_min > np.iinfo(np.int8).min and c_max < np.iinfo(np.int8).max:\n",
    "                    df[col] = df[col].astype(np.int8)\n",
    "                elif c_min > np.iinfo(np.int16).min and c_max < np.iinfo(np.int16).max:\n",
    "                    df[col] = df[col].astype(np.int16)\n",
    "                elif c_min > np.iinfo(np.int32).min and c_max < np.iinfo(np.int32).max:\n",
    "                    df[col] = df[col].astype(np.int32)\n",
    "                elif c_min > np.iinfo(np.int64).min and c_max < np.iinfo(np.int64).max:\n",
    "                    df[col] = df[col].astype(np.int64)  \n",
    "            else:\n",
    "                if c_min > np.finfo(np.float16).min and c_max < np.finfo(np.float16).max:\n",
    "                    df[col] = df[col].astype(np.float16)\n",
    "                elif c_min > np.finfo(np.float32).min and c_max < np.finfo(np.float32).max:\n",
    "                    df[col] = df[col].astype(np.float32)\n",
    "                else:\n",
    "                    df[col] = df[col].astype(np.float64)\n",
    "        else:\n",
    "            df[col] = df[col].astype('category')\n",
    "\n",
    "    end_mem = df.memory_usage().sum() \n",
    "    print('Memory usage after optimization is: {:.2f} MiB'.format(end_mem/1024/1024))\n",
    "    print('Decreased by {:.1f}%'.format(100 * (start_mem - end_mem) / start_mem))\n",
    "    return df\n"
   ]
  },
  {
   "cell_type": "code",
   "execution_count": 3,
   "metadata": {
    "ExecuteTime": {
     "end_time": "2020-04-01T11:50:40.054001Z",
     "start_time": "2020-04-01T11:50:37.660825Z"
    }
   },
   "outputs": [
    {
     "name": "stdout",
     "output_type": "stream",
     "text": [
      "(150000, 31)\n",
      "(50000, 30)\n",
      "Memory usage of dataframe is 59.22 MiB\n",
      "Memory usage after optimization is: 15.75 MiB\n",
      "Decreased by 73.4%\n",
      "(199037, 39)\n"
     ]
    }
   ],
   "source": [
    "path = './data/'\n",
    "Train_data = pd.read_csv(path+'used_car_train_20200313.csv', sep=' ')\n",
    "Test_data = pd.read_csv(path+'used_car_testA_20200313.csv', sep=' ')\n",
    "print(Train_data.shape)\n",
    "print(Test_data.shape)\n",
    "\n",
    "sample_feature = reduce_mem_usage(pd.read_csv('data_for_tree.csv'))\n",
    "print(sample_feature.shape)\n",
    "\n",
    "# train_y_ln = np.log(train_y + 1)"
   ]
  },
  {
   "cell_type": "code",
   "execution_count": 4,
   "metadata": {
    "ExecuteTime": {
     "end_time": "2020-04-01T11:50:40.709053Z",
     "start_time": "2020-04-01T11:50:40.055003Z"
    }
   },
   "outputs": [
    {
     "name": "stdout",
     "output_type": "stream",
     "text": [
      "Index(['SaleID', 'bodyType', 'fuelType', 'gearbox', 'kilometer', 'name',\n",
      "       'notRepairedDamage', 'offerType', 'power', 'seller', 'train', 'v_0',\n",
      "       'v_1', 'v_10', 'v_11', 'v_12', 'v_13', 'v_14', 'v_2', 'v_3', 'v_4',\n",
      "       'v_5', 'v_6', 'v_7', 'v_8', 'v_9', 'used_time', 'city', 'brand_amount',\n",
      "       'brand_price_max', 'brand_price_median', 'brand_price_min',\n",
      "       'brand_price_sum', 'brand_price_std', 'brand_price_average',\n",
      "       'power_bin'],\n",
      "      dtype='object')\n"
     ]
    }
   ],
   "source": [
    "# select features\n",
    "continuous_feature_names = [x for x in sample_feature.columns if x not in ['price','brand','model','brand']]\n",
    "sample_feature = sample_feature.dropna().replace('-', 0).reset_index(drop=True)\n",
    "sample_feature['notRepairedDamage'] = sample_feature['notRepairedDamage'].astype(np.float32)\n",
    "train = sample_feature[continuous_feature_names + ['price']]\n",
    "\n",
    "train_X = train[continuous_feature_names]\n",
    "train_y = train['price']\n",
    "print(train_X.columns)\n",
    "\n",
    "def random_viz(variable, transform=None):\n",
    "    subsample_index = np.random.randint(low=0, high=len(train_y), size=50)\n",
    "    predict = model.predict(train_X.loc[subsample_index])\n",
    "    if transform is not None:\n",
    "        predict = transform(predict)\n",
    "    plt.scatter(train_X[variable][subsample_index], train_y[subsample_index], color='black')\n",
    "    plt.scatter(train_X[variable][subsample_index], predict, color='blue')\n",
    "    plt.xlabel(variable)\n",
    "    plt.ylabel('price')\n",
    "    plt.legend(['True Price','Predicted Price'],loc='upper right')\n",
    "    plt.title('Predicted price vs. True price')\n",
    "    plt.show()"
   ]
  },
  {
   "cell_type": "markdown",
   "metadata": {},
   "source": [
    "## 线性回归"
   ]
  },
  {
   "cell_type": "markdown",
   "metadata": {},
   "source": [
    "### 直接使用线性回归"
   ]
  },
  {
   "cell_type": "code",
   "execution_count": 5,
   "metadata": {
    "ExecuteTime": {
     "end_time": "2020-04-01T11:50:40.926066Z",
     "start_time": "2020-04-01T11:50:40.713051Z"
    },
    "scrolled": true
   },
   "outputs": [
    {
     "name": "stdout",
     "output_type": "stream",
     "text": [
      "intercept:-110670.68275901565\n"
     ]
    },
    {
     "data": {
      "text/plain": [
       "[('v_6', 3367064.341641851),\n",
       " ('v_8', 700675.5609398884),\n",
       " ('v_9', 170630.2772322242),\n",
       " ('v_7', 32322.66193202856),\n",
       " ('v_12', 20473.670797007137),\n",
       " ('v_3', 17868.079541521103),\n",
       " ('v_11', 11474.93899673609),\n",
       " ('v_13', 11261.764560023603),\n",
       " ('v_10', 2683.9200905943835),\n",
       " ('gearbox', 881.8225039246977),\n",
       " ('fuelType', 363.9042507216342),\n",
       " ('bodyType', 189.60271012074742),\n",
       " ('city', 44.94975120521339),\n",
       " ('power', 28.55390161675898),\n",
       " ('brand_price_median', 0.5103728134077999),\n",
       " ('brand_price_std', 0.4503634709262972),\n",
       " ('brand_amount', 0.148811203950666),\n",
       " ('brand_price_max', 0.003191018670313424),\n",
       " ('SaleID', 5.355989919855674e-05),\n",
       " ('offerType', -7.325434125959873e-08),\n",
       " ('seller', -4.304631147533655e-06),\n",
       " ('train', -1.3171695172786713e-05),\n",
       " ('brand_price_sum', -2.1750068681876694e-05),\n",
       " ('name', -0.00029800127130822073),\n",
       " ('used_time', -0.002515894332831747),\n",
       " ('brand_price_average', -0.40490484510103397),\n",
       " ('brand_price_min', -2.2467753486896256),\n",
       " ('power_bin', -34.42064411731797),\n",
       " ('v_14', -274.78411807809044),\n",
       " ('kilometer', -372.89752666074594),\n",
       " ('notRepairedDamage', -495.19038446269),\n",
       " ('v_0', -2045.0549573567366),\n",
       " ('v_5', -11022.986240514012),\n",
       " ('v_4', -15121.731109862763),\n",
       " ('v_2', -26098.299920576428),\n",
       " ('v_1', -45556.18929728195)]"
      ]
     },
     "execution_count": 5,
     "metadata": {},
     "output_type": "execute_result"
    }
   ],
   "source": [
    "model = LinearRegression(normalize=True)\n",
    "model = model.fit(train_X, train_y)\n",
    "print('intercept:'+ str(model.intercept_))\n",
    "sorted(dict(zip(continuous_feature_names, model.coef_)).items(), key=lambda x:x[1], reverse=True)"
   ]
  },
  {
   "cell_type": "code",
   "execution_count": 6,
   "metadata": {
    "ExecuteTime": {
     "end_time": "2020-04-01T11:50:41.110079Z",
     "start_time": "2020-04-01T11:50:40.928067Z"
    }
   },
   "outputs": [
    {
     "name": "stdout",
     "output_type": "stream",
     "text": [
      "Predicted price vs. True price\n"
     ]
    },
    {
     "data": {
      "image/png": "[encoded data removed]",
      "text/plain": [
       "<Figure size 432x288 with 1 Axes>"
      ]
     },
     "metadata": {
      "needs_background": "light"
     },
     "output_type": "display_data"
    }
   ],
   "source": [
    "random_viz('v_9')"
   ]
  },
  {
   "cell_type": "markdown",
   "metadata": {},
   "source": [
    "显然，模型截距数值大，权重分布差异大，绘制特征v_9的值与标签的散点图，图片发现模型的预测结果（蓝色点）与真实标签（黑色点）的分布差异较大。  \n",
    "观察Price的分布，呈现典型的长尾特征。"
   ]
  },
  {
   "cell_type": "code",
   "execution_count": 7,
   "metadata": {
    "ExecuteTime": {
     "end_time": "2020-04-01T11:50:42.042148Z",
     "start_time": "2020-04-01T11:50:41.112084Z"
    }
   },
   "outputs": [
    {
     "name": "stdout",
     "output_type": "stream",
     "text": [
      "It is clear to see the price shows a typical exponential distribution\n"
     ]
    },
    {
     "data": {
      "text/plain": [
       "<matplotlib.axes._subplots.AxesSubplot at 0x25dad5fdbc8>"
      ]
     },
     "execution_count": 7,
     "metadata": {},
     "output_type": "execute_result"
    },
    {
     "data": {
      "image/png": "[encoded data removed]",
      "text/plain": [
       "<Figure size 720x480 with 2 Axes>"
      ]
     },
     "metadata": {
      "needs_background": "light"
     },
     "output_type": "display_data"
    }
   ],
   "source": [
    "print('It is clear to see the price shows a typical exponential distribution')\n",
    "plt.figure(dpi=120)\n",
    "plt.subplot(1,2,1)\n",
    "sns.distplot(train_y)\n",
    "plt.subplot(1,2,2)\n",
    "sns.distplot(train_y[train_y < np.quantile(train_y, 0.9)])"
   ]
  },
  {
   "cell_type": "markdown",
   "metadata": {},
   "source": [
    "### 对数变换"
   ]
  },
  {
   "cell_type": "code",
   "execution_count": 8,
   "metadata": {
    "ExecuteTime": {
     "end_time": "2020-04-01T11:50:42.922214Z",
     "start_time": "2020-04-01T11:50:42.044152Z"
    }
   },
   "outputs": [
    {
     "data": {
      "text/plain": [
       "<matplotlib.axes._subplots.AxesSubplot at 0x25dae360e08>"
      ]
     },
     "execution_count": 8,
     "metadata": {},
     "output_type": "execute_result"
    },
    {
     "data": {
      "image/png": "[encoded data removed]",
      "text/plain": [
       "<Figure size 720x480 with 2 Axes>"
      ]
     },
     "metadata": {
      "needs_background": "light"
     },
     "output_type": "display_data"
    }
   ],
   "source": [
    "# use log transform\n",
    "train_y_ln = np.log(train_y + 1)\n",
    "print('The transformed price seems like normal distribution')\n",
    "plt.figure(dpi=120)\n",
    "plt.subplot(1,2,1)\n",
    "sns.distplot(train_y_ln)\n",
    "plt.subplot(1,2,2)\n",
    "sns.distplot(train_y_ln[train_y_ln < np.quantile(train_y_ln, 0.9)])"
   ]
  },
  {
   "cell_type": "code",
   "execution_count": 9,
   "metadata": {
    "ExecuteTime": {
     "end_time": "2020-04-01T11:50:43.072229Z",
     "start_time": "2020-04-01T11:50:42.924217Z"
    },
    "scrolled": true
   },
   "outputs": [
    {
     "name": "stdout",
     "output_type": "stream",
     "text": [
      "intercept:18.75074946579568\n"
     ]
    },
    {
     "data": {
      "text/plain": [
       "[('v_9', 8.052409900567861),\n",
       " ('v_5', 5.764236596654862),\n",
       " ('v_12', 1.6182081236893395),\n",
       " ('v_1', 1.4798310582965033),\n",
       " ('v_11', 1.1669016563680046),\n",
       " ('v_13', 0.9404711296049493),\n",
       " ('v_7', 0.7137273083566874),\n",
       " ('v_3', 0.6837875771135075),\n",
       " ('v_0', 0.008500518010260855),\n",
       " ('power_bin', 0.008497969302891808),\n",
       " ('gearbox', 0.007922377278336036),\n",
       " ('fuelType', 0.006684769706833309),\n",
       " ('bodyType', 0.004523520092704863),\n",
       " ('power', 0.0007161894205359183),\n",
       " ('brand_price_min', 3.334351114747302e-05),\n",
       " ('brand_amount', 2.897879704277919e-06),\n",
       " ('brand_price_median', 1.2571172873009567e-06),\n",
       " ('brand_price_std', 6.659176363428392e-07),\n",
       " ('brand_price_max', 6.194956307517389e-07),\n",
       " ('brand_price_average', 5.999345965051265e-07),\n",
       " ('SaleID', 2.119417003965125e-08),\n",
       " ('offerType', 5.419398263484254e-11),\n",
       " ('brand_price_sum', -1.5126504215933621e-10),\n",
       " ('seller', -1.7469758972765703e-10),\n",
       " ('train', -2.304858526258613e-10),\n",
       " ('name', -7.015512588883061e-08),\n",
       " ('used_time', -4.122479372352162e-06),\n",
       " ('city', -0.0022187824810410445),\n",
       " ('v_14', -0.004234223418195731),\n",
       " ('kilometer', -0.013835866226884297),\n",
       " ('notRepairedDamage', -0.27027942349847434),\n",
       " ('v_4', -0.8315701201005004),\n",
       " ('v_2', -0.9470842241736321),\n",
       " ('v_10', -1.62614666897633),\n",
       " ('v_8', -40.343007487617434),\n",
       " ('v_6', -238.79036385507084)]"
      ]
     },
     "execution_count": 9,
     "metadata": {},
     "output_type": "execute_result"
    }
   ],
   "source": [
    "model = model.fit(train_X, train_y_ln)\n",
    "\n",
    "print('intercept:'+ str(model.intercept_))\n",
    "sorted(dict(zip(continuous_feature_names, model.coef_)).items(), key=lambda x:x[1], reverse=True)"
   ]
  },
  {
   "cell_type": "code",
   "execution_count": 10,
   "metadata": {
    "ExecuteTime": {
     "end_time": "2020-04-01T11:50:43.292244Z",
     "start_time": "2020-04-01T11:50:43.074226Z"
    }
   },
   "outputs": [
    {
     "name": "stdout",
     "output_type": "stream",
     "text": [
      "Predicted price vs. True price\n"
     ]
    },
    {
     "data": {
      "image/png": "[encoded data removed]",
      "text/plain": [
       "<Figure size 432x288 with 1 Axes>"
      ]
     },
     "metadata": {
      "needs_background": "light"
     },
     "output_type": "display_data"
    }
   ],
   "source": [
    "random_viz('v_9', np.exp)"
   ]
  },
  {
   "cell_type": "markdown",
   "metadata": {},
   "source": [
    "从截距、系数数值，以及散点图可见使用对数变换后线性回归对整体分布的描述较为合适。"
   ]
  },
  {
   "cell_type": "markdown",
   "metadata": {},
   "source": [
    "## 模型验证"
   ]
  },
  {
   "cell_type": "markdown",
   "metadata": {},
   "source": [
    "### 五折验证"
   ]
  },
  {
   "cell_type": "code",
   "execution_count": 13,
   "metadata": {
    "ExecuteTime": {
     "end_time": "2020-04-01T12:09:43.934960Z",
     "start_time": "2020-04-01T12:09:42.734870Z"
    }
   },
   "outputs": [
    {
     "name": "stderr",
     "output_type": "stream",
     "text": [
      "[Parallel(n_jobs=1)]: Using backend SequentialBackend with 1 concurrent workers.\n",
      "[Parallel(n_jobs=1)]: Done   5 out of   5 | elapsed:    0.5s finished\n",
      "[Parallel(n_jobs=1)]: Using backend SequentialBackend with 1 concurrent workers.\n"
     ]
    },
    {
     "name": "stdout",
     "output_type": "stream",
     "text": [
      "AVG: 1.3658023920313878\n",
      "AVG: 0.19325301837047418\n"
     ]
    },
    {
     "name": "stderr",
     "output_type": "stream",
     "text": [
      "[Parallel(n_jobs=1)]: Done   5 out of   5 | elapsed:    0.5s finished\n"
     ]
    },
    {
     "data": {
      "text/html": [
       "<div>\n",
       "<style scoped>\n",
       "    .dataframe tbody tr th:only-of-type {\n",
       "        vertical-align: middle;\n",
       "    }\n",
       "\n",
       "    .dataframe tbody tr th {\n",
       "        vertical-align: top;\n",
       "    }\n",
       "\n",
       "    .dataframe thead th {\n",
       "        text-align: right;\n",
       "    }\n",
       "</style>\n",
       "<table border=\"1\" class=\"dataframe\">\n",
       "  <thead>\n",
       "    <tr style=\"text-align: right;\">\n",
       "      <th></th>\n",
       "      <th>cv1</th>\n",
       "      <th>cv2</th>\n",
       "      <th>cv3</th>\n",
       "      <th>cv4</th>\n",
       "      <th>cv5</th>\n",
       "    </tr>\n",
       "  </thead>\n",
       "  <tbody>\n",
       "    <tr>\n",
       "      <th>MAE</th>\n",
       "      <td>0.190792</td>\n",
       "      <td>0.193758</td>\n",
       "      <td>0.194132</td>\n",
       "      <td>0.191825</td>\n",
       "      <td>0.195758</td>\n",
       "    </tr>\n",
       "  </tbody>\n",
       "</table>\n",
       "</div>"
      ],
      "text/plain": [
       "          cv1       cv2       cv3       cv4       cv5\n",
       "MAE  0.190792  0.193758  0.194132  0.191825  0.195758"
      ]
     },
     "execution_count": 13,
     "metadata": {},
     "output_type": "execute_result"
    }
   ],
   "source": [
    "def log_transfer(func):\n",
    "    def wrapper(y, yhat):\n",
    "        result = func(np.log(y), np.nan_to_num(np.log(yhat)))\n",
    "        return result\n",
    "    return wrapper\n",
    "\n",
    "scores = cross_val_score(model, X=train_X, y=train_y, verbose=1, cv = 5, scoring=make_scorer(log_transfer(mean_absolute_error)))\n",
    "print('AVG:', np.mean(scores))\n",
    "\n",
    "scores = cross_val_score(model, X=train_X, y=train_y_ln, verbose=1, cv = 5, scoring=make_scorer(mean_absolute_error))\n",
    "print('AVG:', np.mean(scores))\n",
    "\n",
    "scores = pd.DataFrame(scores.reshape(1,-1))\n",
    "scores.columns = ['cv' + str(x) for x in range(1, 6)]\n",
    "scores.index = ['MAE']\n",
    "scores"
   ]
  },
  {
   "cell_type": "markdown",
   "metadata": {},
   "source": [
    "### 时间序列模拟\n",
    "由于我们并不具有预知未来的能力，五折交叉验证在某些与时间相关的数据集上反而反映了不真实的情况。通过2018年的二手车价格预测2017年的二手车价格，这显然是不合理的，因此我们还可以采用时间顺序对数据集进行分隔。在本例中，我们选用靠前时间的4/5样本当作训练集，靠后时间的1/5当作验证集，最终结果与五折交叉验证差距不大"
   ]
  },
  {
   "cell_type": "code",
   "execution_count": 14,
   "metadata": {
    "ExecuteTime": {
     "end_time": "2020-04-01T12:11:25.464629Z",
     "start_time": "2020-04-01T12:11:25.301618Z"
    }
   },
   "outputs": [
    {
     "data": {
      "text/plain": [
       "0.1957766727030092"
      ]
     },
     "execution_count": 14,
     "metadata": {},
     "output_type": "execute_result"
    }
   ],
   "source": [
    "import datetime\n",
    "\n",
    "sample_feature = sample_feature.reset_index(drop=True)\n",
    "split_point = len(sample_feature) // 5 * 4\n",
    "\n",
    "train = sample_feature.loc[:split_point].dropna()\n",
    "val = sample_feature.loc[split_point:].dropna()\n",
    "\n",
    "train_X = train[continuous_feature_names]\n",
    "train_y_ln = np.log(train['price'] + 1)\n",
    "val_X = val[continuous_feature_names]\n",
    "val_y_ln = np.log(val['price'] + 1)\n",
    "\n",
    "model = model.fit(train_X, train_y_ln)\n",
    "mean_absolute_error(val_y_ln, model.predict(val_X))"
   ]
  },
  {
   "cell_type": "markdown",
   "metadata": {},
   "source": [
    "### 学习率曲线与验证曲线"
   ]
  },
  {
   "cell_type": "code",
   "execution_count": 15,
   "metadata": {
    "ExecuteTime": {
     "end_time": "2020-04-01T12:14:08.442021Z",
     "start_time": "2020-04-01T12:14:08.152000Z"
    }
   },
   "outputs": [
    {
     "data": {
      "image/png": "[encoded data removed]",
      "text/plain": [
       "<Figure size 432x288 with 1 Axes>"
      ]
     },
     "metadata": {
      "needs_background": "light"
     },
     "output_type": "display_data"
    }
   ],
   "source": [
    "from sklearn.model_selection import learning_curve, validation_curve\n",
    "\n",
    "def plot_learning_curve(estimator, title, X, y, ylim=None, cv=None,n_jobs=1, train_size=np.linspace(.1, 1.0, 5 )):  \n",
    "    plt.figure()  \n",
    "    plt.title(title)  \n",
    "    if ylim is not None:  \n",
    "        plt.ylim(*ylim)  \n",
    "    plt.xlabel('Training example')  \n",
    "    plt.ylabel('score')  \n",
    "    train_sizes, train_scores, test_scores = learning_curve(estimator, X, y, cv=cv, n_jobs=n_jobs, train_sizes=train_size, scoring = make_scorer(mean_absolute_error))  \n",
    "    train_scores_mean = np.mean(train_scores, axis=1)  \n",
    "    train_scores_std = np.std(train_scores, axis=1)  \n",
    "    test_scores_mean = np.mean(test_scores, axis=1)  \n",
    "    test_scores_std = np.std(test_scores, axis=1)  \n",
    "    plt.grid()#区域  \n",
    "    plt.fill_between(train_sizes, train_scores_mean - train_scores_std,  \n",
    "                     train_scores_mean + train_scores_std, alpha=0.1,  \n",
    "                     color=\"r\")  \n",
    "    plt.fill_between(train_sizes, test_scores_mean - test_scores_std,  \n",
    "                     test_scores_mean + test_scores_std, alpha=0.1,  \n",
    "                     color=\"g\")  \n",
    "    plt.plot(train_sizes, train_scores_mean, 'o-', color='r',  \n",
    "             label=\"Training score\")  \n",
    "    plt.plot(train_sizes, test_scores_mean,'o-',color=\"g\",  \n",
    "             label=\"Cross-validation score\")  \n",
    "    plt.legend(loc=\"best\")  \n",
    "    plt.show()\n",
    "\n",
    "plot_learning_curve(LinearRegression(), 'Liner_model', train_X[:1000], train_y_ln[:1000], ylim=(0.0, 0.5), cv=5, n_jobs=1)  "
   ]
  },
  {
   "cell_type": "markdown",
   "metadata": {},
   "source": [
    "## LR / Ridge / LASSO"
   ]
  },
  {
   "cell_type": "code",
   "execution_count": 16,
   "metadata": {
    "ExecuteTime": {
     "end_time": "2020-04-01T12:15:30.229468Z",
     "start_time": "2020-04-01T12:15:25.054084Z"
    }
   },
   "outputs": [
    {
     "name": "stdout",
     "output_type": "stream",
     "text": [
      "LinearRegression is finished\n",
      "Ridge is finished\n",
      "Lasso is finished\n"
     ]
    },
    {
     "data": {
      "text/html": [
       "<div>\n",
       "<style scoped>\n",
       "    .dataframe tbody tr th:only-of-type {\n",
       "        vertical-align: middle;\n",
       "    }\n",
       "\n",
       "    .dataframe tbody tr th {\n",
       "        vertical-align: top;\n",
       "    }\n",
       "\n",
       "    .dataframe thead th {\n",
       "        text-align: right;\n",
       "    }\n",
       "</style>\n",
       "<table border=\"1\" class=\"dataframe\">\n",
       "  <thead>\n",
       "    <tr style=\"text-align: right;\">\n",
       "      <th></th>\n",
       "      <th>LinearRegression</th>\n",
       "      <th>Ridge</th>\n",
       "      <th>Lasso</th>\n",
       "    </tr>\n",
       "  </thead>\n",
       "  <tbody>\n",
       "    <tr>\n",
       "      <th>cv1</th>\n",
       "      <td>0.190248</td>\n",
       "      <td>0.194161</td>\n",
       "      <td>0.384174</td>\n",
       "    </tr>\n",
       "    <tr>\n",
       "      <th>cv2</th>\n",
       "      <td>0.193295</td>\n",
       "      <td>0.197261</td>\n",
       "      <td>0.383680</td>\n",
       "    </tr>\n",
       "    <tr>\n",
       "      <th>cv3</th>\n",
       "      <td>0.192850</td>\n",
       "      <td>0.196666</td>\n",
       "      <td>0.383417</td>\n",
       "    </tr>\n",
       "    <tr>\n",
       "      <th>cv4</th>\n",
       "      <td>0.193296</td>\n",
       "      <td>0.197068</td>\n",
       "      <td>0.382575</td>\n",
       "    </tr>\n",
       "    <tr>\n",
       "      <th>cv5</th>\n",
       "      <td>0.191939</td>\n",
       "      <td>0.195809</td>\n",
       "      <td>0.379107</td>\n",
       "    </tr>\n",
       "  </tbody>\n",
       "</table>\n",
       "</div>"
      ],
      "text/plain": [
       "     LinearRegression     Ridge     Lasso\n",
       "cv1          0.190248  0.194161  0.384174\n",
       "cv2          0.193295  0.197261  0.383680\n",
       "cv3          0.192850  0.196666  0.383417\n",
       "cv4          0.193296  0.197068  0.382575\n",
       "cv5          0.191939  0.195809  0.379107"
      ]
     },
     "execution_count": 16,
     "metadata": {},
     "output_type": "execute_result"
    }
   ],
   "source": [
    "models = [LinearRegression(),\n",
    "          Ridge(),\n",
    "          Lasso()]\n",
    "\n",
    "result = dict()\n",
    "for model in models:\n",
    "    model_name = str(model).split('(')[0]\n",
    "    scores = cross_val_score(model, X=train_X, y=train_y_ln, verbose=0, cv = 5, scoring=make_scorer(mean_absolute_error))\n",
    "    result[model_name] = scores\n",
    "    print(model_name + ' is finished')\n",
    "    \n",
    "result = pd.DataFrame(result)\n",
    "result.index = ['cv' + str(x) for x in range(1, 6)]\n",
    "result"
   ]
  },
  {
   "cell_type": "code",
   "execution_count": 18,
   "metadata": {
    "ExecuteTime": {
     "end_time": "2020-04-01T12:26:02.800986Z",
     "start_time": "2020-04-01T12:26:00.462813Z"
    }
   },
   "outputs": [
    {
     "name": "stdout",
     "output_type": "stream",
     "text": [
      "intercept:17.271538327973623\n"
     ]
    },
    {
     "data": {
      "image/png": "[encoded data removed]",
      "text/plain": [
       "<Figure size 432x288 with 1 Axes>"
      ]
     },
     "metadata": {
      "needs_background": "light"
     },
     "output_type": "display_data"
    },
    {
     "name": "stdout",
     "output_type": "stream",
     "text": [
      "intercept:3.111950488074953\n"
     ]
    },
    {
     "data": {
      "image/png": "[encoded data removed]",
      "text/plain": [
       "<Figure size 432x288 with 1 Axes>"
      ]
     },
     "metadata": {
      "needs_background": "light"
     },
     "output_type": "display_data"
    },
    {
     "name": "stdout",
     "output_type": "stream",
     "text": [
      "intercept:8.665903327385234\n"
     ]
    },
    {
     "data": {
      "image/png": "[encoded data removed]",
      "text/plain": [
       "<Figure size 432x288 with 1 Axes>"
      ]
     },
     "metadata": {
      "needs_background": "light"
     },
     "output_type": "display_data"
    }
   ],
   "source": [
    "for model in models:\n",
    "    model = model.fit(train_X, train_y_ln)\n",
    "    print('intercept:'+ str(model.intercept_))\n",
    "    sns.barplot(abs(model.coef_), continuous_feature_names)\n",
    "    plt.show()"
   ]
  },
  {
   "cell_type": "markdown",
   "metadata": {},
   "source": [
    "正则化效果比直接使用线性回归略差，不过在一定程度上可以提高模型泛化（抗干扰）能力。  \n",
    "比如L1正则得到的稀疏矩阵中，power和used_time权重较大，与直觉相符。  "
   ]
  },
  {
   "cell_type": "markdown",
   "metadata": {},
   "source": [
    "## 决策树 / 随机森林 / GDBT / XGBoost ..."
   ]
  },
  {
   "cell_type": "code",
   "execution_count": 19,
   "metadata": {
    "ExecuteTime": {
     "end_time": "2020-04-01T12:44:55.206933Z",
     "start_time": "2020-04-01T12:31:03.919595Z"
    }
   },
   "outputs": [
    {
     "name": "stdout",
     "output_type": "stream",
     "text": [
      "LinearRegression is finished\n",
      "DecisionTreeRegressor is finished\n",
      "RandomForestRegressor is finished\n",
      "GradientBoostingRegressor is finished\n",
      "MLPRegressor is finished\n",
      "XGBRegressor is finished\n",
      "LGBMRegressor is finished\n"
     ]
    },
    {
     "data": {
      "text/html": [
       "<div>\n",
       "<style scoped>\n",
       "    .dataframe tbody tr th:only-of-type {\n",
       "        vertical-align: middle;\n",
       "    }\n",
       "\n",
       "    .dataframe tbody tr th {\n",
       "        vertical-align: top;\n",
       "    }\n",
       "\n",
       "    .dataframe thead th {\n",
       "        text-align: right;\n",
       "    }\n",
       "</style>\n",
       "<table border=\"1\" class=\"dataframe\">\n",
       "  <thead>\n",
       "    <tr style=\"text-align: right;\">\n",
       "      <th></th>\n",
       "      <th>LinearRegression</th>\n",
       "      <th>DecisionTreeRegressor</th>\n",
       "      <th>RandomForestRegressor</th>\n",
       "      <th>GradientBoostingRegressor</th>\n",
       "      <th>MLPRegressor</th>\n",
       "      <th>XGBRegressor</th>\n",
       "      <th>LGBMRegressor</th>\n",
       "    </tr>\n",
       "  </thead>\n",
       "  <tbody>\n",
       "    <tr>\n",
       "      <th>cv1</th>\n",
       "      <td>0.190248</td>\n",
       "      <td>0.206640</td>\n",
       "      <td>0.135761</td>\n",
       "      <td>0.167273</td>\n",
       "      <td>556.716096</td>\n",
       "      <td>0.141066</td>\n",
       "      <td>0.142418</td>\n",
       "    </tr>\n",
       "    <tr>\n",
       "      <th>cv2</th>\n",
       "      <td>0.193295</td>\n",
       "      <td>0.196062</td>\n",
       "      <td>0.137585</td>\n",
       "      <td>0.171782</td>\n",
       "      <td>108.302303</td>\n",
       "      <td>0.141077</td>\n",
       "      <td>0.144916</td>\n",
       "    </tr>\n",
       "    <tr>\n",
       "      <th>cv3</th>\n",
       "      <td>0.192850</td>\n",
       "      <td>0.195383</td>\n",
       "      <td>0.135236</td>\n",
       "      <td>0.171241</td>\n",
       "      <td>1369.361891</td>\n",
       "      <td>0.139594</td>\n",
       "      <td>0.143553</td>\n",
       "    </tr>\n",
       "    <tr>\n",
       "      <th>cv4</th>\n",
       "      <td>0.193296</td>\n",
       "      <td>0.194740</td>\n",
       "      <td>0.136422</td>\n",
       "      <td>0.169869</td>\n",
       "      <td>1145.381711</td>\n",
       "      <td>0.138958</td>\n",
       "      <td>0.144573</td>\n",
       "    </tr>\n",
       "    <tr>\n",
       "      <th>cv5</th>\n",
       "      <td>0.191939</td>\n",
       "      <td>0.201117</td>\n",
       "      <td>0.136670</td>\n",
       "      <td>0.169550</td>\n",
       "      <td>338.535961</td>\n",
       "      <td>0.142046</td>\n",
       "      <td>0.144205</td>\n",
       "    </tr>\n",
       "  </tbody>\n",
       "</table>\n",
       "</div>"
      ],
      "text/plain": [
       "     LinearRegression  DecisionTreeRegressor  RandomForestRegressor  \\\n",
       "cv1          0.190248               0.206640               0.135761   \n",
       "cv2          0.193295               0.196062               0.137585   \n",
       "cv3          0.192850               0.195383               0.135236   \n",
       "cv4          0.193296               0.194740               0.136422   \n",
       "cv5          0.191939               0.201117               0.136670   \n",
       "\n",
       "     GradientBoostingRegressor  MLPRegressor  XGBRegressor  LGBMRegressor  \n",
       "cv1                   0.167273    556.716096      0.141066       0.142418  \n",
       "cv2                   0.171782    108.302303      0.141077       0.144916  \n",
       "cv3                   0.171241   1369.361891      0.139594       0.143553  \n",
       "cv4                   0.169869   1145.381711      0.138958       0.144573  \n",
       "cv5                   0.169550    338.535961      0.142046       0.144205  "
      ]
     },
     "execution_count": 19,
     "metadata": {},
     "output_type": "execute_result"
    }
   ],
   "source": [
    "from sklearn.linear_model import LinearRegression\n",
    "from sklearn.svm import SVC\n",
    "from sklearn.tree import DecisionTreeRegressor\n",
    "from sklearn.ensemble import RandomForestRegressor\n",
    "from sklearn.ensemble import GradientBoostingRegressor\n",
    "from sklearn.neural_network import MLPRegressor\n",
    "from xgboost.sklearn import XGBRegressor\n",
    "from lightgbm.sklearn import LGBMRegressor\n",
    "\n",
    "models = [LinearRegression(),\n",
    "          DecisionTreeRegressor(),\n",
    "          RandomForestRegressor(),\n",
    "          GradientBoostingRegressor(),\n",
    "          MLPRegressor(solver='lbfgs', max_iter=100), \n",
    "          XGBRegressor(n_estimators = 100, objective='reg:squarederror'), \n",
    "          LGBMRegressor(n_estimators = 100)]\n",
    "\n",
    "result = dict()\n",
    "for model in models:\n",
    "    model_name = str(model).split('(')[0]\n",
    "    scores = cross_val_score(model, X=train_X, y=train_y_ln, verbose=0, cv = 5, scoring=make_scorer(mean_absolute_error))\n",
    "    result[model_name] = scores\n",
    "    print(model_name + ' is finished')\n",
    "    \n",
    "result = pd.DataFrame(result)\n",
    "result.index = ['cv' + str(x) for x in range(1, 6)]\n",
    "result"
   ]
  },
  {
   "cell_type": "code",
   "execution_count": null,
   "metadata": {},
   "outputs": [],
   "source": []
  },
  {
   "cell_type": "markdown",
   "metadata": {},
   "source": [
    "## 调参\n",
    "- 贪心算法 https://www.jianshu.com/p/ab89df9759c8\n",
    "- 网格调参 https://blog.csdn.net/weixin_43172660/article/details/83032029\n",
    "- 贝叶斯调参 https://blog.csdn.net/linxid/article/details/81189154"
   ]
  },
  {
   "cell_type": "code",
   "execution_count": 20,
   "metadata": {
    "ExecuteTime": {
     "end_time": "2020-04-01T12:45:02.435547Z",
     "start_time": "2020-04-01T12:45:02.429546Z"
    }
   },
   "outputs": [],
   "source": [
    "## LGB的参数集合：\n",
    "\n",
    "objective = ['regression', 'regression_l1', 'mape', 'huber', 'fair']\n",
    "\n",
    "num_leaves = [3,5,10,15,20,40, 55]\n",
    "max_depth = [3,5,10,15,20,40, 55]\n",
    "bagging_fraction = []\n",
    "feature_fraction = []\n",
    "drop_rate = []"
   ]
  },
  {
   "cell_type": "markdown",
   "metadata": {},
   "source": [
    "### 贪心\n",
    "采用贪心策略，每次调整一个参数到最优结果"
   ]
  },
  {
   "cell_type": "code",
   "execution_count": 21,
   "metadata": {
    "ExecuteTime": {
     "end_time": "2020-04-01T12:46:13.667365Z",
     "start_time": "2020-04-01T12:45:03.893670Z"
    }
   },
   "outputs": [
    {
     "data": {
      "text/plain": [
       "<matplotlib.axes._subplots.AxesSubplot at 0x25dba204b88>"
      ]
     },
     "execution_count": 21,
     "metadata": {},
     "output_type": "execute_result"
    },
    {
     "data": {
      "image/png": "[encoded data removed]",
      "text/plain": [
       "<Figure size 432x288 with 1 Axes>"
      ]
     },
     "metadata": {
      "needs_background": "light"
     },
     "output_type": "display_data"
    }
   ],
   "source": [
    "best_obj = dict()\n",
    "for obj in objective:\n",
    "    model = LGBMRegressor(objective=obj)\n",
    "    score = np.mean(cross_val_score(model, X=train_X, y=train_y_ln, verbose=0, cv = 5, scoring=make_scorer(mean_absolute_error)))\n",
    "    best_obj[obj] = score\n",
    "    \n",
    "best_leaves = dict()\n",
    "for leaves in num_leaves:\n",
    "    model = LGBMRegressor(objective=min(best_obj.items(), key=lambda x:x[1])[0], num_leaves=leaves)\n",
    "    score = np.mean(cross_val_score(model, X=train_X, y=train_y_ln, verbose=0, cv = 5, scoring=make_scorer(mean_absolute_error)))\n",
    "    best_leaves[leaves] = score\n",
    "    \n",
    "best_depth = dict()\n",
    "for depth in max_depth:\n",
    "    model = LGBMRegressor(objective=min(best_obj.items(), key=lambda x:x[1])[0],\n",
    "                          num_leaves=min(best_leaves.items(), key=lambda x:x[1])[0],\n",
    "                          max_depth=depth)\n",
    "    score = np.mean(cross_val_score(model, X=train_X, y=train_y_ln, verbose=0, cv = 5, scoring=make_scorer(mean_absolute_error)))\n",
    "    best_depth[depth] = score\n",
    "    \n",
    "sns.lineplot(x=['0_initial','1_turning_obj','2_turning_leaves','3_turning_depth'], y=[0.143 ,min(best_obj.values()), min(best_leaves.values()), min(best_depth.values())])"
   ]
  },
  {
   "cell_type": "markdown",
   "metadata": {},
   "source": [
    "### Grid Search\n",
    "对所有参数进行网格遍历, 即穷举给定范围的所有组合；  \n",
    "使用验证集调参，进一步 交叉验证；  \n",
    "缺点：效率低"
   ]
  },
  {
   "cell_type": "code",
   "execution_count": 23,
   "metadata": {
    "ExecuteTime": {
     "end_time": "2020-04-01T12:59:57.020741Z",
     "start_time": "2020-04-01T12:47:12.172461Z"
    }
   },
   "outputs": [
    {
     "name": "stdout",
     "output_type": "stream",
     "text": [
      "{'max_depth': 10, 'num_leaves': 55, 'objective': 'huber'}\n",
      "0.13643527735986558\n"
     ]
    }
   ],
   "source": [
    "from sklearn.model_selection import GridSearchCV\n",
    "\n",
    "parameters = {'objective': objective , 'num_leaves': num_leaves, 'max_depth': max_depth}\n",
    "model = LGBMRegressor()\n",
    "clf = GridSearchCV(model, parameters, cv=5)\n",
    "clf = clf.fit(train_X, train_y_ln)\n",
    "\n",
    "print(clf.best_params_)\n",
    "\n",
    "model = LGBMRegressor(**clf.best_params_)\n",
    "res = np.mean(cross_val_score(model, X=train_X, y=train_y_ln, verbose=0, cv = 5, scoring=make_scorer(mean_absolute_error)))\n",
    "print(res)"
   ]
  },
  {
   "cell_type": "markdown",
   "metadata": {},
   "source": [
    "### 贝叶斯\n",
    "贝叶斯优化问题有四个部分：\n",
    "\n",
    "- 目标函数：我们想要最小化的内容，在这里，目标函数是机器学习模型使用该组超参数在验证集上的损失。\n",
    "\n",
    "- 域空间：要搜索的超参数的取值范围\n",
    "\n",
    "- 优化算法：构造替代函数并选择下一个超参数值进行评估的方法。\n",
    "\n",
    "- 结果历史记录：来自目标函数评估的存储结果，包括超参数和验证集上的损失。\n",
    "\n",
    "比随机搜索更加高效"
   ]
  },
  {
   "cell_type": "code",
   "execution_count": 25,
   "metadata": {
    "ExecuteTime": {
     "end_time": "2020-04-01T13:12:04.947565Z",
     "start_time": "2020-04-01T13:09:44.210078Z"
    }
   },
   "outputs": [
    {
     "name": "stdout",
     "output_type": "stream",
     "text": [
      "|   iter    |  target   | max_depth | min_ch... | num_le... | subsample |\n",
      "-------------------------------------------------------------------------\n",
      "| \u001b[0m 1       \u001b[0m | \u001b[0m 0.8463  \u001b[0m | \u001b[0m 9.029   \u001b[0m | \u001b[0m 13.73   \u001b[0m | \u001b[0m 14.32   \u001b[0m | \u001b[0m 0.4029  \u001b[0m |\n",
      "| \u001b[95m 2       \u001b[0m | \u001b[95m 0.8613  \u001b[0m | \u001b[95m 57.21   \u001b[0m | \u001b[95m 48.38   \u001b[0m | \u001b[95m 40.56   \u001b[0m | \u001b[95m 0.6433  \u001b[0m |\n",
      "| \u001b[0m 3       \u001b[0m | \u001b[0m 0.8465  \u001b[0m | \u001b[0m 90.51   \u001b[0m | \u001b[0m 33.64   \u001b[0m | \u001b[0m 14.43   \u001b[0m | \u001b[0m 0.4486  \u001b[0m |\n",
      "| \u001b[95m 4       \u001b[0m | \u001b[95m 0.8618  \u001b[0m | \u001b[95m 58.95   \u001b[0m | \u001b[95m 69.65   \u001b[0m | \u001b[95m 42.33   \u001b[0m | \u001b[95m 0.5921  \u001b[0m |\n",
      "| \u001b[0m 5       \u001b[0m | \u001b[0m 0.8129  \u001b[0m | \u001b[0m 94.25   \u001b[0m | \u001b[0m 59.32   \u001b[0m | \u001b[0m 4.49    \u001b[0m | \u001b[0m 0.4514  \u001b[0m |\n",
      "| \u001b[95m 6       \u001b[0m | \u001b[95m 0.8691  \u001b[0m | \u001b[95m 97.44   \u001b[0m | \u001b[95m 2.471   \u001b[0m | \u001b[95m 99.64   \u001b[0m | \u001b[95m 0.8686  \u001b[0m |\n",
      "| \u001b[0m 7       \u001b[0m | \u001b[0m 0.8504  \u001b[0m | \u001b[0m 5.014   \u001b[0m | \u001b[0m 98.96   \u001b[0m | \u001b[0m 99.57   \u001b[0m | \u001b[0m 0.6935  \u001b[0m |\n",
      "| \u001b[0m 8       \u001b[0m | \u001b[0m 0.8687  \u001b[0m | \u001b[0m 97.84   \u001b[0m | \u001b[0m 99.38   \u001b[0m | \u001b[0m 95.77   \u001b[0m | \u001b[0m 0.7879  \u001b[0m |\n",
      "| \u001b[0m 9       \u001b[0m | \u001b[0m 0.8268  \u001b[0m | \u001b[0m 5.734   \u001b[0m | \u001b[0m 97.83   \u001b[0m | \u001b[0m 6.523   \u001b[0m | \u001b[0m 0.606   \u001b[0m |\n",
      "| \u001b[0m 10      \u001b[0m | \u001b[0m 0.8686  \u001b[0m | \u001b[0m 95.48   \u001b[0m | \u001b[0m 95.79   \u001b[0m | \u001b[0m 95.01   \u001b[0m | \u001b[0m 0.4638  \u001b[0m |\n",
      "| \u001b[0m 11      \u001b[0m | \u001b[0m 0.865   \u001b[0m | \u001b[0m 98.9    \u001b[0m | \u001b[0m 2.635   \u001b[0m | \u001b[0m 58.97   \u001b[0m | \u001b[0m 0.6161  \u001b[0m |\n",
      "| \u001b[0m 12      \u001b[0m | \u001b[0m 0.8129  \u001b[0m | \u001b[0m 64.15   \u001b[0m | \u001b[0m 2.279   \u001b[0m | \u001b[0m 4.338   \u001b[0m | \u001b[0m 0.865   \u001b[0m |\n",
      "| \u001b[0m 13      \u001b[0m | \u001b[0m 0.8069  \u001b[0m | \u001b[0m 2.225   \u001b[0m | \u001b[0m 2.236   \u001b[0m | \u001b[0m 93.32   \u001b[0m | \u001b[0m 0.7052  \u001b[0m |\n",
      "| \u001b[0m 14      \u001b[0m | \u001b[0m 0.8686  \u001b[0m | \u001b[0m 99.91   \u001b[0m | \u001b[0m 54.87   \u001b[0m | \u001b[0m 93.73   \u001b[0m | \u001b[0m 0.7657  \u001b[0m |\n",
      "| \u001b[0m 15      \u001b[0m | \u001b[0m 0.807   \u001b[0m | \u001b[0m 2.237   \u001b[0m | \u001b[0m 67.51   \u001b[0m | \u001b[0m 50.21   \u001b[0m | \u001b[0m 0.8151  \u001b[0m |\n",
      "| \u001b[95m 16      \u001b[0m | \u001b[95m 0.8692  \u001b[0m | \u001b[95m 49.0    \u001b[0m | \u001b[95m 97.37   \u001b[0m | \u001b[95m 99.44   \u001b[0m | \u001b[95m 0.9146  \u001b[0m |\n",
      "| \u001b[0m 17      \u001b[0m | \u001b[0m 0.8648  \u001b[0m | \u001b[0m 84.99   \u001b[0m | \u001b[0m 99.8    \u001b[0m | \u001b[0m 56.8    \u001b[0m | \u001b[0m 0.4159  \u001b[0m |\n",
      "| \u001b[0m 18      \u001b[0m | \u001b[0m 0.8651  \u001b[0m | \u001b[0m 99.33   \u001b[0m | \u001b[0m 50.7    \u001b[0m | \u001b[0m 58.39   \u001b[0m | \u001b[0m 0.3617  \u001b[0m |\n",
      "| \u001b[0m 19      \u001b[0m | \u001b[0m 0.869   \u001b[0m | \u001b[0m 71.62   \u001b[0m | \u001b[0m 29.95   \u001b[0m | \u001b[0m 97.71   \u001b[0m | \u001b[0m 0.177   \u001b[0m |\n",
      "| \u001b[0m 20      \u001b[0m | \u001b[0m 0.8665  \u001b[0m | \u001b[0m 48.97   \u001b[0m | \u001b[0m 98.9    \u001b[0m | \u001b[0m 68.18   \u001b[0m | \u001b[0m 0.2438  \u001b[0m |\n",
      "| \u001b[0m 21      \u001b[0m | \u001b[0m 0.8678  \u001b[0m | \u001b[0m 96.52   \u001b[0m | \u001b[0m 22.0    \u001b[0m | \u001b[0m 85.37   \u001b[0m | \u001b[0m 0.1288  \u001b[0m |\n",
      "| \u001b[0m 22      \u001b[0m | \u001b[0m 0.8665  \u001b[0m | \u001b[0m 65.52   \u001b[0m | \u001b[0m 2.191   \u001b[0m | \u001b[0m 69.93   \u001b[0m | \u001b[0m 0.4095  \u001b[0m |\n",
      "| \u001b[0m 23      \u001b[0m | \u001b[0m 0.8691  \u001b[0m | \u001b[0m 78.22   \u001b[0m | \u001b[0m 98.34   \u001b[0m | \u001b[0m 99.69   \u001b[0m | \u001b[0m 0.7456  \u001b[0m |\n",
      "| \u001b[0m 24      \u001b[0m | \u001b[0m 0.8676  \u001b[0m | \u001b[0m 70.3    \u001b[0m | \u001b[0m 67.36   \u001b[0m | \u001b[0m 80.9    \u001b[0m | \u001b[0m 0.9427  \u001b[0m |\n",
      "| \u001b[0m 25      \u001b[0m | \u001b[0m 0.8684  \u001b[0m | \u001b[0m 96.95   \u001b[0m | \u001b[0m 98.56   \u001b[0m | \u001b[0m 92.04   \u001b[0m | \u001b[0m 0.1515  \u001b[0m |\n",
      "| \u001b[0m 26      \u001b[0m | \u001b[0m 0.8691  \u001b[0m | \u001b[0m 70.91   \u001b[0m | \u001b[0m 5.398   \u001b[0m | \u001b[0m 99.98   \u001b[0m | \u001b[0m 0.9375  \u001b[0m |\n",
      "| \u001b[0m 27      \u001b[0m | \u001b[0m 0.8631  \u001b[0m | \u001b[0m 79.13   \u001b[0m | \u001b[0m 28.81   \u001b[0m | \u001b[0m 49.26   \u001b[0m | \u001b[0m 0.9784  \u001b[0m |\n",
      "| \u001b[0m 28      \u001b[0m | \u001b[0m 0.869   \u001b[0m | \u001b[0m 78.36   \u001b[0m | \u001b[0m 74.29   \u001b[0m | \u001b[0m 99.76   \u001b[0m | \u001b[0m 0.1218  \u001b[0m |\n",
      "| \u001b[0m 29      \u001b[0m | \u001b[0m 0.867   \u001b[0m | \u001b[0m 74.73   \u001b[0m | \u001b[0m 99.76   \u001b[0m | \u001b[0m 75.35   \u001b[0m | \u001b[0m 0.9759  \u001b[0m |\n",
      "| \u001b[0m 30      \u001b[0m | \u001b[0m 0.8687  \u001b[0m | \u001b[0m 77.05   \u001b[0m | \u001b[0m 2.313   \u001b[0m | \u001b[0m 96.51   \u001b[0m | \u001b[0m 0.1723  \u001b[0m |\n",
      "=========================================================================\n"
     ]
    }
   ],
   "source": [
    "# pip install bayesian-optimization -i https://pypi.douban.com/simple\n",
    "\n",
    "from bayes_opt import BayesianOptimization\n",
    "\n",
    "def rf_cv(num_leaves, max_depth, subsample, min_child_samples):\n",
    "    val = cross_val_score(\n",
    "        LGBMRegressor(objective = 'regression_l1',\n",
    "            num_leaves=int(num_leaves),\n",
    "            max_depth=int(max_depth),\n",
    "            subsample = subsample,\n",
    "            min_child_samples = int(min_child_samples)\n",
    "        ),\n",
    "        X=train_X, y=train_y_ln, verbose=0, cv = 5, scoring=make_scorer(mean_absolute_error)\n",
    "    ).mean()\n",
    "    return 1 - val\n",
    "\n",
    "rf_bo = BayesianOptimization(\n",
    "    rf_cv,\n",
    "    {\n",
    "    'num_leaves': (2, 100),\n",
    "    'max_depth': (2, 100),\n",
    "    'subsample': (0.1, 1),\n",
    "    'min_child_samples' : (2, 100)\n",
    "    }\n",
    ")\n",
    "\n",
    "rf_bo.maximize()"
   ]
  },
  {
   "cell_type": "code",
   "execution_count": 26,
   "metadata": {
    "ExecuteTime": {
     "end_time": "2020-04-01T13:12:04.955565Z",
     "start_time": "2020-04-01T13:12:04.949568Z"
    }
   },
   "outputs": [
    {
     "data": {
      "text/plain": [
       "0.13075093599858723"
      ]
     },
     "execution_count": 26,
     "metadata": {},
     "output_type": "execute_result"
    }
   ],
   "source": [
    "1 - rf_bo.max['target']"
   ]
  },
  {
   "cell_type": "code",
   "execution_count": null,
   "metadata": {},
   "outputs": [],
   "source": []
  },
  {
   "cell_type": "code",
   "execution_count": null,
   "metadata": {},
   "outputs": [],
   "source": []
  },
  {
   "cell_type": "code",
   "execution_count": null,
   "metadata": {},
   "outputs": [],
   "source": []
  }
 ],
 "metadata": {
  "kernelspec": {
   "display_name": "Python 3",
   "language": "python",
   "name": "python3"
  },
  "language_info": {
   "codemirror_mode": {
    "name": "ipython",
    "version": 3
   },
   "file_extension": ".py",
   "mimetype": "text/x-python",
   "name": "python",
   "nbconvert_exporter": "python",
   "pygments_lexer": "ipython3",
   "version": "3.7.6"
  },
  "toc": {
   "base_numbering": 1,
   "nav_menu": {},
   "number_sections": true,
   "sideBar": true,
   "skip_h1_title": false,
   "title_cell": "Table of Contents",
   "title_sidebar": "Contents",
   "toc_cell": false,
   "toc_position": {
    "height": "calc(100% - 180px)",
    "left": "10px",
    "top": "150px",
    "width": "320px"
   },
   "toc_section_display": true,
   "toc_window_display": true
  }
 },
 "nbformat": 4,
 "nbformat_minor": 4
}
